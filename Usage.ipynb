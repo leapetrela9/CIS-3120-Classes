{
 "cells": [
  {
   "cell_type": "code",
   "execution_count": 1,
   "id": "6b88b4bc-a5c4-436d-9eed-8e95600f6d53",
   "metadata": {
    "editable": true,
    "slideshow": {
     "slide_type": ""
    },
    "tags": []
   },
   "outputs": [],
   "source": [
    "from Animal import Animal"
   ]
  },
  {
   "cell_type": "code",
   "execution_count": 3,
   "id": "738a52e3-faf1-4f92-8835-fed5b5e36dfe",
   "metadata": {
    "editable": true,
    "slideshow": {
     "slide_type": ""
    },
    "tags": []
   },
   "outputs": [
    {
     "name": "stdout",
     "output_type": "stream",
     "text": [
      "Hello i am Parrot\n",
      "Parrot says what you just said!\n",
      "Parrot like to drink orange juice!\n",
      "Parrot only eats vegetables!\n",
      "Parrot flies when he wants to!\n",
      "Parrot looks beautiful!\n",
      "Parrot counts up to 100!\n"
     ]
    }
   ],
   "source": [
    "x = Animal(\"Parrot.\")\n",
    "x.talk()\n",
    "x.drink()\n",
    "x.eat()\n",
    "x.fly()\n",
    "x.look()\n",
    "x.counts()"
   ]
  },
  {
   "cell_type": "code",
   "execution_count": null,
   "id": "804d3883-e5be-4c41-b53b-61b2d5aacf44",
   "metadata": {},
   "outputs": [],
   "source": []
  },
  {
   "cell_type": "code",
   "execution_count": null,
   "id": "056c8d9a-3e8e-42b8-9f0b-c21ca2c5b679",
   "metadata": {},
   "outputs": [],
   "source": []
  }
 ],
 "metadata": {
  "kernelspec": {
   "display_name": "Python 3 (ipykernel)",
   "language": "python",
   "name": "python3"
  },
  "language_info": {
   "codemirror_mode": {
    "name": "ipython",
    "version": 3
   },
   "file_extension": ".py",
   "mimetype": "text/x-python",
   "name": "python",
   "nbconvert_exporter": "python",
   "pygments_lexer": "ipython3",
   "version": "3.12.4"
  }
 },
 "nbformat": 4,
 "nbformat_minor": 5
}
